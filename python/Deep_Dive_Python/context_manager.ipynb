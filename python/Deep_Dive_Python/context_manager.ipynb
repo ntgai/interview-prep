{
 "cells": [
  {
   "cell_type": "code",
   "execution_count": 10,
   "metadata": {},
   "outputs": [],
   "source": [
    "# Context Manager\n",
    "\n",
    "class File:\n",
    "    def __init__(self, name, mode):\n",
    "        self.name = name\n",
    "        self.mode = mode\n",
    "        \n",
    "    def __enter__(self):\n",
    "        print('opening file')\n",
    "        self.file = open(self.name, self.mode)\n",
    "        return self.file\n",
    "    \n",
    "    def __exit__(self, exc_type, exc_value, exc_tb):\n",
    "        print('closing file')\n",
    "        self.file.close()\n",
    "        return False"
   ]
  },
  {
   "cell_type": "code",
   "execution_count": 11,
   "metadata": {},
   "outputs": [
    {
     "name": "stdout",
     "output_type": "stream",
     "text": [
      "opening file\n",
      "closing file\n"
     ]
    }
   ],
   "source": [
    "with File('data/test.txt', 'w') as f:\n",
    "    f.write('This is a test')"
   ]
  },
  {
   "cell_type": "code",
   "execution_count": 12,
   "metadata": {},
   "outputs": [
    {
     "name": "stdout",
     "output_type": "stream",
     "text": [
      "opening file\n",
      "['This is a test']\n",
      "closing file\n"
     ]
    }
   ],
   "source": [
    "with File('data/test.txt', 'r') as f:\n",
    "    print(f.readlines())"
   ]
  },
  {
   "cell_type": "code",
   "execution_count": 13,
   "metadata": {},
   "outputs": [],
   "source": [
    "# Context Manager with Generator\n",
    "\n",
    "class GenContextManager:\n",
    "    def __init__(self, gen, *args, **kwargs):\n",
    "        self._gen = gen(*args, **kwargs)\n",
    "        \n",
    "    def __enter__(self):\n",
    "        return next(self._gen)\n",
    "    \n",
    "    def __exit__(self, exc_type, exc_value, exc_tb):\n",
    "        try:\n",
    "            next(self._gen)\n",
    "        except StopIteration:\n",
    "            pass\n",
    "        return False\n",
    "    \n",
    "def open_file(fname, mode):\n",
    "    f = open(fname, mode)\n",
    "    try:\n",
    "        print('Opening file')\n",
    "        yield f\n",
    "    finally:\n",
    "        print('Closing file')\n",
    "        f.close()"
   ]
  },
  {
   "cell_type": "code",
   "execution_count": 17,
   "metadata": {},
   "outputs": [
    {
     "name": "stdout",
     "output_type": "stream",
     "text": [
      "Opening file\n",
      "['This is a test']\n",
      "Closing file\n"
     ]
    }
   ],
   "source": [
    "with GenContextManager(open_file, 'data/test.txt', 'r') as f:\n",
    "    print(f.readlines())"
   ]
  },
  {
   "cell_type": "code",
   "execution_count": 24,
   "metadata": {},
   "outputs": [],
   "source": [
    "# Context Manager with Decorator and Generator\n",
    "\n",
    "class GenContextManager:\n",
    "    def __init__(self, gen):\n",
    "        self._gen = gen\n",
    "        \n",
    "    def __enter__(self):\n",
    "        return next(self._gen)\n",
    "    \n",
    "    def __exit__(self, exc_type, exc_value, exc_tb):\n",
    "        try:\n",
    "            next(self._gen)\n",
    "        except StopIteration:\n",
    "            pass\n",
    "        return False\n",
    "\n",
    "    \n",
    "def context_manager_dec(fgen):\n",
    "    def helper(*args, **kwargs):\n",
    "        gen = fgen(*args, **kwargs)\n",
    "        ctx = GenContextManager(gen)\n",
    "        return ctx\n",
    "    return helper\n",
    "\n",
    "\n",
    "@context_manager_dec\n",
    "def open_file(fname, mode = 'r'):\n",
    "    f = open(fname, mode)\n",
    "    try:\n",
    "        print('Opening file')\n",
    "        yield f\n",
    "    finally:\n",
    "        print('Closing file')\n",
    "        f.close()"
   ]
  },
  {
   "cell_type": "code",
   "execution_count": 26,
   "metadata": {},
   "outputs": [
    {
     "name": "stdout",
     "output_type": "stream",
     "text": [
      "Opening file\n",
      "['This is a test']\n",
      "Closing file\n"
     ]
    }
   ],
   "source": [
    "with open_file('data/test.txt') as f:\n",
    "    print(f.readlines())"
   ]
  }
 ],
 "metadata": {
  "kernelspec": {
   "display_name": "Python 3",
   "language": "python",
   "name": "python3"
  },
  "language_info": {
   "codemirror_mode": {
    "name": "ipython",
    "version": 3
   },
   "file_extension": ".py",
   "mimetype": "text/x-python",
   "name": "python",
   "nbconvert_exporter": "python",
   "pygments_lexer": "ipython3",
   "version": "3.7.4"
  }
 },
 "nbformat": 4,
 "nbformat_minor": 2
}
