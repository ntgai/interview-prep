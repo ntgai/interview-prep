{
 "cells": [
  {
   "cell_type": "code",
   "execution_count": 1,
   "metadata": {},
   "outputs": [],
   "source": [
    "# Aggregators\n",
    "\n",
    "def squares(n):\n",
    "    for i in range(n):\n",
    "        yield i**2"
   ]
  },
  {
   "cell_type": "code",
   "execution_count": 2,
   "metadata": {},
   "outputs": [
    {
     "data": {
      "text/plain": [
       "[0, 1, 4, 9, 16]"
      ]
     },
     "execution_count": 2,
     "metadata": {},
     "output_type": "execute_result"
    }
   ],
   "source": [
    "list(squares(5))"
   ]
  },
  {
   "cell_type": "code",
   "execution_count": 4,
   "metadata": {},
   "outputs": [
    {
     "name": "stdout",
     "output_type": "stream",
     "text": [
      "0\n",
      "16\n",
      "30\n"
     ]
    }
   ],
   "source": [
    "# min,max,sum\n",
    "print(min(squares(5)))\n",
    "print(max(squares(5)))\n",
    "print(sum(squares(5)))"
   ]
  },
  {
   "cell_type": "code",
   "execution_count": 7,
   "metadata": {},
   "outputs": [
    {
     "name": "stdout",
     "output_type": "stream",
     "text": [
      "False\n",
      "False\n",
      "False\n",
      "False\n",
      "False\n"
     ]
    }
   ],
   "source": [
    "# Boolean Truth Values, first __bool__ then __len__ method, if \n",
    "# both of them not found then True\n",
    "print(bool(0))\n",
    "print(bool(None))\n",
    "print(bool({}))\n",
    "print(bool([]))\n",
    "print(bool(0+0j))\n",
    "\n",
    "# else, True"
   ]
  },
  {
   "cell_type": "code",
   "execution_count": 33,
   "metadata": {},
   "outputs": [
    {
     "name": "stdout",
     "output_type": "stream",
     "text": [
      "Map function:  True\n",
      "Generator Comprehenasion:  True\n",
      "Map function:  False\n",
      "Generator Comprehenasion:  False\n"
     ]
    }
   ],
   "source": [
    "# Example- check all items are number?\n",
    "\n",
    "from numbers import Number\n",
    "\n",
    "l = [10, 2, 30, 4]\n",
    "l2 = [10, 2, None, 4]\n",
    "\n",
    "lst = list()\n",
    "lst.append(l)\n",
    "lst.append(l2)\n",
    "\n",
    "for l in lst:\n",
    "    print(\"Map function: \", \n",
    "          all(map(lambda x: isinstance(x, Number), l))\n",
    "    )\n",
    "    print(\"Generator Comprehenasion: \", \n",
    "          all((isinstance(x, Number) for x in l))\n",
    "    )"
   ]
  },
  {
   "cell_type": "code",
   "execution_count": 42,
   "metadata": {},
   "outputs": [
    {
     "name": "stdout",
     "output_type": "stream",
     "text": [
      "[1, 27, 125, 343, 729]\n",
      "[1, 27, 125, 343, 729]\n"
     ]
    }
   ],
   "source": [
    "# filterfalse\n",
    "from itertools import filterfalse\n",
    "\n",
    "print(list(filterfalse(lambda x: x%2 == 0, \n",
    "                [i**3 for i in range(10)])))\n",
    "\n",
    "# or use filter and generator\n",
    "\n",
    "def cube_gen(n):\n",
    "    for i in range(n):\n",
    "        yield i**3\n",
    "def is_even(x):\n",
    "    return x % 2 != 0\n",
    "\n",
    "print(list(filter(is_even, cube_gen(10))))"
   ]
  },
  {
   "cell_type": "code",
   "execution_count": 45,
   "metadata": {},
   "outputs": [
    {
     "data": {
      "text/plain": [
       "[10, 11, 12, 13, 14]"
      ]
     },
     "execution_count": 45,
     "metadata": {},
     "output_type": "execute_result"
    }
   ],
   "source": [
    "# count, islice\n",
    "from itertools import islice, count\n",
    "\n",
    "g = count(10)\n",
    "list(islice(g, 5))"
   ]
  },
  {
   "cell_type": "code",
   "execution_count": 48,
   "metadata": {},
   "outputs": [
    {
     "data": {
      "text/plain": [
       "['red', 'green', 'blue', 'red', 'green']"
      ]
     },
     "execution_count": 48,
     "metadata": {},
     "output_type": "execute_result"
    }
   ],
   "source": [
    "from itertools import cycle\n",
    "g = cycle(('red', 'green', 'blue'))\n",
    "list(islice(g, 5))"
   ]
  },
  {
   "cell_type": "code",
   "execution_count": 52,
   "metadata": {},
   "outputs": [
    {
     "name": "stdout",
     "output_type": "stream",
     "text": [
      "Yielding 1st\n",
      "Yielding 2nd\n",
      "Yielding 3rd\n",
      "0\n",
      "1\n",
      "4\n",
      "9\n",
      "16\n",
      "25\n",
      "36\n",
      "49\n",
      "64\n",
      "81\n",
      "100\n",
      "121\n"
     ]
    }
   ],
   "source": [
    "# Chaining\n",
    "from itertools import chain\n",
    "\n",
    "def squares():\n",
    "    print('Yielding 1st')\n",
    "    yield (i**2 for i in range(4))\n",
    "    print('Yielding 2nd')\n",
    "    yield (i**2 for i in range(4,8))\n",
    "    print('Yielding 3rd')\n",
    "    yield (i**2 for i in range(8,12))\n",
    "    \n",
    "for item in chain(*squares()):\n",
    "    print(item)\n",
    "    \n",
    "# it is not lazy iterable, chain uses eager evaluation"
   ]
  },
  {
   "cell_type": "code",
   "execution_count": 54,
   "metadata": {},
   "outputs": [
    {
     "name": "stdout",
     "output_type": "stream",
     "text": [
      "Yielding 1st\n",
      "0\n",
      "1\n",
      "4\n",
      "9\n",
      "Yielding 2nd\n",
      "16\n",
      "25\n",
      "36\n",
      "49\n",
      "Yielding 3rd\n",
      "64\n",
      "81\n",
      "100\n",
      "121\n"
     ]
    }
   ],
   "source": [
    "# it is lazy evaluation\n",
    "for item in chain.from_iterable(squares()):\n",
    "    print(item)"
   ]
  },
  {
   "cell_type": "code",
   "execution_count": 61,
   "metadata": {},
   "outputs": [
    {
     "data": {
      "text/plain": [
       "(<itertools._tee at 0x1054e1230>, <itertools._tee at 0x1054e1820>)"
      ]
     },
     "execution_count": 61,
     "metadata": {},
     "output_type": "execute_result"
    }
   ],
   "source": [
    "# Tee, copying iterable\n",
    "\n",
    "from itertools import tee\n",
    "\n",
    "def squares(n):\n",
    "    for i in range(n):\n",
    "        yield i**2\n",
    "        \n",
    "gen = squares(10)\n",
    "iters = tee(gen, 2)\n",
    "iters"
   ]
  },
  {
   "cell_type": "code",
   "execution_count": 62,
   "metadata": {},
   "outputs": [
    {
     "name": "stdout",
     "output_type": "stream",
     "text": [
      "0 1\n",
      "0 1 4 9\n"
     ]
    }
   ],
   "source": [
    "iter1, iter2 = iters\n",
    "print(next(iter1), next(iter1))\n",
    "print(next(iter2), next(iter2), next(iter2), next(iter2))"
   ]
  }
 ],
 "metadata": {
  "kernelspec": {
   "display_name": "Python 3",
   "language": "python",
   "name": "python3"
  },
  "language_info": {
   "codemirror_mode": {
    "name": "ipython",
    "version": 3
   },
   "file_extension": ".py",
   "mimetype": "text/x-python",
   "name": "python",
   "nbconvert_exporter": "python",
   "pygments_lexer": "ipython3",
   "version": "3.7.4"
  }
 },
 "nbformat": 4,
 "nbformat_minor": 2
}
